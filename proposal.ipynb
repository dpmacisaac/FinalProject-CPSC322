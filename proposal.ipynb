{
 "cells": [
  {
   "cell_type": "markdown",
   "metadata": {},
   "source": [
    "## Climbing Data Set Proposal\n",
    "By: Jaymin West & Dominic MacIsaac"
   ]
  },
  {
   "cell_type": "markdown",
   "metadata": {},
   "source": [
    "#### About The Dataset\n",
    "\n",
    "**Source**\n",
    "\n",
    "https://www.himalayandatabase.com\n",
    "\n",
    "Complete Data (With unnecessary attribute columns removed): \n",
    "\n",
    "https://docs.google.com/spreadsheets/d/1tn6YSrgVxM90I9Vhmpd9kyX2-tPSpniX_ny5eI9DdL8/edit?usp=sharing \n",
    "\n",
    "**Format**\n",
    "\n",
    "This data is in the form of a CSV file\n",
    "\n",
    "**Contents**\n",
    "\n",
    "10,762 Instances\n",
    "\n",
    "\n",
    "17 Attributes based around expeditions climbing mountains:\n",
    "- PeakID, Year, Season, Host, Nation, Base Camp Arrival Date, Number of Days to Highpoint, Ski or Parapente Descent, Camps, total members, total hired persons, Oxygen Used Ascending, Oxygen Used Sleeping, Oxygen Use Unknown(Used for cleaning data),  Agency, Commercial Route, Standard Route\n",
    "\n",
    "\n",
    "We intend to predict if the expedition summited the mountain or not.\n",
    "\n",
    "The data has a fairly even split. A little less than half did not summit (4950 instances) and the rest had at least 1 member summit (5812 instances).\n",
    "\n",
    "\n",
    "\n",
    "#### Implmentation/Technical Merits\n",
    "\n",
    "\n",
    "**Anticipated Challenges**\n",
    "- There is some pre-processing that needs to be done in terms of getting rid of rows that do not have data in certain attributes and getting rid of certain attributes when predicting\n",
    "- We will try and categorize things into binary values such as total hired instead of giving the amount of people they hired. \n",
    "- We also have to combine the ski and parapente columns. (We may utilimately drop this category but we are keeping it now because we find it interesting.)\n",
    "\n",
    "#### Potential Impacts of Results\n",
    "\n",
    "**Why are these results useful?**\n",
    "\n",
    "These results could reveal what factors truly result in a successful or unsuccessful attempt at climbing the world’s largest mountains. These factors can help the decision making process of whether to climb a mountain based on factors that a team is facing.\n",
    "\n",
    "**Stakeholders**\n",
    "- **Mountaineers** who are debating the risks of climbing certain mountains at certain times will find this information very valuable. It can also change the decision making process in whether or not certain variables could genuinely change the success rate of an expedition. \n",
    "\n",
    "- **Us**. This is our project so we have a stake in ensuring we both learn and utilize skills that we have gained through this course. As we are both climbers, we also have a stake since we are part of the climbing commmunity!"
   ]
  }
 ],
 "metadata": {
  "language_info": {
   "name": "python"
  },
  "orig_nbformat": 4
 },
 "nbformat": 4,
 "nbformat_minor": 2
}
