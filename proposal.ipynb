{
 "cells": [
  {
   "cell_type": "markdown",
   "metadata": {},
   "source": [
    "## Climbing Data Set Proposal\n",
    "By: Jaymin West & Dominic MacIsaac"
   ]
  },
  {
   "cell_type": "markdown",
   "metadata": {},
   "source": [
    "#### About The Dataset\n",
    "\n",
    "**Source**\n",
    "\n",
    "https://www.kaggle.com/datasets/dcohen21/8anu-climbing-logbook?resource=download\n",
    "\n",
    "**Format**\n",
    "\n",
    "It is a Sqlite file with 4 tables: ascent, grade, method, users.\n",
    "\n",
    "Ascent and Users hold the data we will mainly be focusing on.\n",
    "\n",
    "Ascent has 4,111,877 Instances and 28 Attributes.\n",
    "\n",
    "Users has 62,593 Instances and 22 Attributes\n",
    "\n",
    "**Contents**\n",
    "\n",
    "This dataset scraped all its data from the site 8a.nu.\n",
    "......\n",
    "\n",
    "....\n",
    "\n",
    "**Our Research**\n",
    "\n"
   ]
  },
  {
   "cell_type": "markdown",
   "metadata": {},
   "source": [
    "#### Implmentation/Technical Merits\n",
    "\n",
    "\n",
    "**Anticipated Challenges**\n",
    "- Lots of cleaning must be done on a very large dataset"
   ]
  },
  {
   "cell_type": "markdown",
   "metadata": {},
   "source": [
    "#### Potential Impacts of Results\n",
    "\n",
    "**Why are these results useful?**\n",
    "\n",
    "\n",
    "\n",
    "\n",
    "**Stakeholders**\n",
    "- The **Climbing Community** has a stake is understanding this data. This research can lead to better performance and techniques for training. Both climbers and coaches in this community seek to gain to a better understanding of what works and what doesn't.\n",
    "- **Us**. This is our project so we have a stake in ensuring we both learn and utilize skills that we have gained through this course. As we are both climbers, we also have a stake since we are part of the climbing commmunity!"
   ]
  }
 ],
 "metadata": {
  "language_info": {
   "name": "python"
  },
  "orig_nbformat": 4
 },
 "nbformat": 4,
 "nbformat_minor": 2
}
