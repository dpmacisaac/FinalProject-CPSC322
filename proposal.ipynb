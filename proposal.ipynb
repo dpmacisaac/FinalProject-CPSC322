{
 "cells": [
  {
   "cell_type": "markdown",
   "metadata": {},
   "source": [
    "### Climbing Data Set Proposal\n",
    "By: Jaymin West & Dominic MacIsaac"
   ]
  }
 ],
 "metadata": {
  "language_info": {
   "name": "python"
  },
  "orig_nbformat": 4
 },
 "nbformat": 4,
 "nbformat_minor": 2
}
