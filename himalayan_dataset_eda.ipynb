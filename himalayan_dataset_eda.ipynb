{
 "cells": [
  {
   "cell_type": "markdown",
   "metadata": {},
   "source": [
    "# Himalayan Mountaineering Analysis\n",
    "## CPSC 322\n",
    "## Fall, 2022\n",
    "### Jaymin West, Dominic MacIsaac\n",
    "---------------------------------------------------------"
   ]
  },
  {
   "cell_type": "code",
   "execution_count": 18,
   "metadata": {},
   "outputs": [],
   "source": [
    "import importlib\n",
    "\n",
    "import mysklearn.myutils\n",
    "importlib.reload(mysklearn.myutils)\n",
    "import mysklearn.myutils as myutils\n",
    "\n",
    "import mysklearn.mypytable\n",
    "importlib.reload(mysklearn.mypytable)\n",
    "from mysklearn.mypytable import MyPyTable \n",
    "\n",
    "import mysklearn.myclassifiers\n",
    "importlib.reload(mysklearn.myclassifiers)\n",
    "from mysklearn.myclassifiers import MyKNeighborsClassifier, MyDummyClassifier, MyNaiveBayesClassifier, MyDecisionTreeClassifier\n",
    "\n",
    "import mysklearn.myevaluation\n",
    "importlib.reload(mysklearn.myevaluation)\n",
    "import mysklearn.myevaluation as myevaluation\n"
   ]
  },
  {
   "cell_type": "markdown",
   "metadata": {},
   "source": [
    "### Cleaning Data:"
   ]
  },
  {
   "cell_type": "code",
   "execution_count": 48,
   "metadata": {},
   "outputs": [
    {
     "data": {
      "text/plain": [
       "1"
      ]
     },
     "execution_count": 48,
     "metadata": {},
     "output_type": "execute_result"
    }
   ],
   "source": [
    "himalaya_table = MyPyTable()\n",
    "himalaya_table.load_from_file(\"data/322-Final-Dataset.csv\")\n",
    "\n",
    "# Removing all rows with missing values\n",
    "himalaya_table.remove_rows_with_missing_values(\"\")\n",
    "\n",
    "# Converting the SMTMEMBERS row to binary values as this will be \n",
    "#   what we use for predictions\n",
    "himalaya_table.convert_row_to_binary(\"SMTMEMBERS\", 0.0)"
   ]
  },
  {
   "cell_type": "markdown",
   "metadata": {},
   "source": [
    "### Data Presentation Goals:\n",
    "1. Summits by peak\n",
    "1. Summits by year\n",
    "1. Summits by nation\n",
    "1. Summits by agency\n",
    "1. Summits by season\n",
    "1. Comparision of climbs with and without oxygen (and O2SLEEP)\n",
    "1. Relationship between ratio of hired and summit success\n",
    "1. Relationship of number of camps and summit success\n",
    "1. Camps by peak\n",
    "1. Camps by peak by agency\n",
    "1. Camps by season "
   ]
  }
 ],
 "metadata": {
  "kernelspec": {
   "display_name": "Python 3.10.6 64-bit",
   "language": "python",
   "name": "python3"
  },
  "language_info": {
   "codemirror_mode": {
    "name": "ipython",
    "version": 3
   },
   "file_extension": ".py",
   "mimetype": "text/x-python",
   "name": "python",
   "nbconvert_exporter": "python",
   "pygments_lexer": "ipython3",
   "version": "3.10.6"
  },
  "orig_nbformat": 4,
  "vscode": {
   "interpreter": {
    "hash": "31f2aee4e71d21fbe5cf8b01ff0e069b9275f58929596ceb00d14d90e3e16cd6"
   }
  }
 },
 "nbformat": 4,
 "nbformat_minor": 2
}
