{
 "cells": [
  {
   "cell_type": "markdown",
   "metadata": {},
   "source": [
    "# Himalayan Mountaineering Analysis\n",
    "## CPSC 322\n",
    "## Fall, 2022\n",
    "### Jaymin West, Dominic MacIsaac\n",
    "---------------------------------------------------------"
   ]
  },
  {
   "attachments": {},
   "cell_type": "markdown",
   "metadata": {},
   "source": [
    "### Introduction:\n",
    "\n",
    "The dataset that we chose to use for this project involves reports from expeditions that have the goal of reaching summits in the Himalayan Mountains. Each instance has a great deal of information about the specific expedition and we expcet this will give us some insight into what it takes to reach the summit of these extreme mountains.\n",
    "\n",
    "After our data cleaning and preparation, we used our Naive Bayes, Decision Tree, and Random Forest classifiers to try and predict the result of the expeditions. In the end, our Random Forest Classifier performed the best of all them.  \n",
    "\n",
    "#### About The Dataset\n",
    "\n",
    "**Source**\n",
    "\n",
    "https://www.himalayandatabase.com\n",
    "\n",
    "Complete Data (With unnecessary attribute columns removed): \n",
    "\n",
    "https://docs.google.com/spreadsheets/d/1tn6YSrgVxM90I9Vhmpd9kyX2-tPSpniX_ny5eI9DdL8/edit?usp=sharing \n",
    "\n",
    "**Format**\n",
    "\n",
    "This data is in the form of a CSV file\n",
    "\n",
    "**Contents**\n",
    "\n",
    "10,762 Instances\n",
    "\n",
    "\n",
    "17 Attributes based around expeditions climbing mountains:\n",
    "- PeakID, Year, Season, Host, Nation, Base Camp Arrival Date, Number of Days to Highpoint, Ski or Parapente Descent, Camps, total members, total hired persons, Oxygen Used Ascending, Oxygen Used Sleeping, Oxygen Use Unknown(Used for cleaning data),  Agency, Commercial Route, Standard Route\n",
    "\n",
    "The data has a fairly even split. A little less than half did not summit (4950 instances) and the rest had at least 1 member summit (5812 instances)."
   ]
  },
  {
   "cell_type": "code",
   "execution_count": 1,
   "metadata": {},
   "outputs": [],
   "source": [
    "import importlib\n",
    "\n",
    "import mysklearn.myutils\n",
    "importlib.reload(mysklearn.myutils)\n",
    "import mysklearn.myutils as myutils\n",
    "\n",
    "import mysklearn.mypytable\n",
    "importlib.reload(mysklearn.mypytable)\n",
    "from mysklearn.mypytable import MyPyTable \n",
    "\n",
    "import mysklearn.myclassifiers\n",
    "importlib.reload(mysklearn.myclassifiers)\n",
    "from mysklearn.myclassifiers import MyNaiveBayesClassifier, MyDecisionTreeClassifier, MyAssociationRuleMiner, MyRandomForrestClassifier\n",
    "\n",
    "import mysklearn.myevaluation\n",
    "importlib.reload(mysklearn.myevaluation)\n",
    "import mysklearn.myevaluation as myevaluation\n",
    "\n",
    "import eda_utils\n",
    "importlib.reload(eda_utils)\n",
    "\n",
    "import matplotlib.pyplot as plt\n",
    "\n",
    "import numpy as np\n",
    "import os"
   ]
  },
  {
   "cell_type": "markdown",
   "metadata": {},
   "source": [
    "### Cleaning Data:"
   ]
  },
  {
   "cell_type": "code",
   "execution_count": 2,
   "metadata": {},
   "outputs": [
    {
     "data": {
      "image/png": "[encoded data removed]",
      "text/plain": [
       "<Figure size 432x288 with 1 Axes>"
      ]
     },
     "metadata": {
      "needs_background": "light"
     },
     "output_type": "display_data"
    }
   ],
   "source": [
    "himalaya_table = MyPyTable()\n",
    "file_name = os.path.join(\"data\", \"322-Final-Dataset.csv\")\n",
    "himalaya_table.load_from_file(file_name)\n",
    "\n",
    "# Converting the SMTMEMBERS row to binary values as this will be \n",
    "#   what we will use for predictions\n",
    "himalaya_table.convert_row_to_binary(\"SUMMIT_SUCCESS\", 0.0)\n",
    "himalaya_table = himalaya_table.combine_boolean_rows(\"SKI\", \"PARAPENTE\", \"TRUE\")\n",
    "\n",
    "summit_col = eda_utils.get_column(himalaya_table.data,himalaya_table.column_names,\"SUMMIT_SUCCESS\")\n",
    "eda_utils.generate_frequency_diagram(summit_col,\"Summited\", \"Total Count\", \"Fig 0: Total Count of Expeditions that Summited vs Not || BEFORE CLEANING\")\n",
    "\n",
    "# Removing all rows with missing values\n",
    "himalaya_table.remove_rows_with_missing_values(\"\")"
   ]
  },
  {
   "cell_type": "code",
   "execution_count": null,
   "metadata": {},
   "outputs": [],
   "source": [
    "summit_col = eda_utils.get_column(himalaya_table.data,himalaya_table.column_names,\"SUMMIT_SUCCESS\")\n",
    "eda_utils.generate_frequency_diagram(summit_col,\"Summited\", \"Total Count\", \"Fig 1: Total Count of Expeditions that Summited vs Not\")"
   ]
  },
  {
   "cell_type": "markdown",
   "metadata": {},
   "source": [
    "## Data Analysis"
   ]
  },
  {
   "cell_type": "markdown",
   "metadata": {},
   "source": [
    "Creating the success and failure tables:"
   ]
  },
  {
   "cell_type": "code",
   "execution_count": null,
   "metadata": {},
   "outputs": [],
   "source": [
    "success_table = MyPyTable()\n",
    "success_table.column_names = himalaya_table.column_names\n",
    "success_table.data = [row for row in himalaya_table.data if row[-1] == 1]\n",
    "\n",
    "failure_table = MyPyTable()\n",
    "failure_table.data = [row for row in himalaya_table.data if row[-1] == 0]\n",
    "failure_table.column_names = himalaya_table.column_names"
   ]
  },
  {
   "cell_type": "code",
   "execution_count": null,
   "metadata": {},
   "outputs": [],
   "source": [
    "eda_utils.generate_pie_chart_from_column(himalaya_table, \"SEASON\", ['Spring', 'Summer', 'Autumn', 'Winter'], \"Fig 2: Climbs By Season\")\n",
    "eda_utils.generate_pie_chart_from_column(himalaya_table, \"HOST\", ['', 'Nepal', 'China', ''], \"Fig 3: Climbs By Expedition Host\")"
   ]
  },
  {
   "cell_type": "code",
   "execution_count": null,
   "metadata": {},
   "outputs": [],
   "source": [
    "eda_utils.generate_scatter_plot(himalaya_table, \"YEAR\", \"Year\", \"Number of Climbs\", \"Fig 4: Expedition Count By Year\")"
   ]
  },
  {
   "cell_type": "code",
   "execution_count": null,
   "metadata": {},
   "outputs": [],
   "source": [
    "eda_utils.make_success_and_failure_chart(success_table, failure_table, \"PEAKID\", 6, 5)\n",
    "eda_utils.make_success_and_failure_chart(success_table, failure_table, \"NATION\", 25, 6)\n",
    "eda_utils.make_success_and_failure_chart(success_table, failure_table, \"O2CLIMB\", 0, 7)\n",
    "eda_utils.make_success_and_failure_chart(success_table, failure_table, \"AGENCY\", 75, 8)\n",
    "eda_utils.make_success_and_failure_chart(success_table, failure_table, \"COMMERCIALROUTE\", 0, 9)\n",
    "eda_utils.make_success_and_failure_chart(success_table, failure_table, \"NATION\", 30, 10)\n"
   ]
  },
  {
   "attachments": {},
   "cell_type": "markdown",
   "metadata": {},
   "source": [
    "### Data Analysis Results:\n",
    "Looking deeper into the data we are using proved to be quite interesting. The very first that that was surprising was that the amount of successes was higher than the amount of failures (Fig 1). This is unexpected as media surrounding these mountains often promote their difficulty. Moving on it can be seen that well over 90% of climbs happened in the Spring or Autumn. Again, this was unexpceted as intuitivley summer seems like it would be the most ideal time to climb these mountains based on the weather being more favorable. Figure 4 shows how the number of expeditions has changed over time. This is one of the more interesting graphs in this project as it clearly shows the rise in popularity that mountaineering has undergone. With gear, travel, and expedition companies becoming cheaper and more accessible and routes have become more established it tracks that there are more expeditions going out each year. The graph shows a peak in expedition counts around 2009 which, without going into too much detail, tracks with the trends of mountaineering. The early 2000's was really when this style of climbing grew in popularity and accessiblilty. Any CEO or high paid individual could (and can) pay their way to the top of these peaks and with more companies offering expedition guidiing, the market has really begun to boom. \n",
    "\n",
    "\n",
    "Moving onto figures 5-10, we can see the relationship between various attributes and the number of successes and failures they represent. Perhaps the most interesting of these are figure 5 and figure 9. Figure 5 shows the successes and failures of peaks with over 6 expeditions. This graph is so interesting as you can see that the more popular mountains have a higher rate of success. This shows a positive feedback cycle where more popular peaks are easier to climb and since they are climbed more often they becomre more established and documented and therefore are becoming easier to climb. Mountains like Makalu (MAKA) are lesser known but still popular among more die-hard mountaineers since they are more difficult as can be seen with the higher failure rate. Figure 9 shows the use of oxygen and the role it plays in climbing. Many of these mountains tower well over 20,000ft, at which point there is so little oxygen in the atmosphere that climbers often will supplement their oxygen intake. This clearly helps them as fig 9 shows that the expeditions that use oxygen are much more likely to succeed than those who do not. Those who do not have a far greater amount of failures than successes due to the sheer difficulty of operating with such little oxygen. This puts famous mountaineering feats, like climbing all 14 peaks over 28,000ft, much more impressive. "
   ]
  },
  {
   "cell_type": "markdown",
   "metadata": {},
   "source": [
    "## Creating Training Data (with and without attribute selection)"
   ]
  },
  {
   "cell_type": "code",
   "execution_count": 3,
   "metadata": {},
   "outputs": [],
   "source": [
    "X_train = [row[:-1] for row in himalaya_table.data]\n",
    "y_train = [row[-1] for row in himalaya_table.data]\n",
    "# Only using YEAR, SEASON, HOST, 02CLIMB, COMMERCIALROUTE:\n",
    "select_X_train = [[row[1], row[2], row[3], row[10], row[14]] for row in himalaya_table.data]"
   ]
  },
  {
   "cell_type": "markdown",
   "metadata": {},
   "source": [
    "## Association Rule Miner"
   ]
  },
  {
   "cell_type": "code",
   "execution_count": null,
   "metadata": {},
   "outputs": [],
   "source": [
    "importlib.reload(mysklearn.myclassifiers)\n",
    "from mysklearn.myclassifiers import MyAssociationRuleMiner\n",
    "from copy import deepcopy"
   ]
  },
  {
   "cell_type": "code",
   "execution_count": null,
   "metadata": {},
   "outputs": [],
   "source": [
    "rule_miner = MyAssociationRuleMiner()\n",
    "\n",
    "himalayan_X = deepcopy(himalaya_table.data)\n",
    "himalayan_X = myutils.prepend_attribute_label(himalayan_X, himalaya_table.column_names)\n",
    "himalayan_X = [[row[0],row[1], row[2], row[3],row[10], row[14], row[16]] for row in himalayan_X]\n",
    "\n",
    "rule_miner.fit(himalayan_X)\n",
    "rule_miner.print_association_rules()"
   ]
  },
  {
   "cell_type": "markdown",
   "metadata": {},
   "source": [
    " These association rules are based on a group of select attributes that were found in earlier analysis to more accuratly predict summit success. This association rule miner used default settings (minsupport = 0.25 and minconfidence = 0.8).\n",
    "- Rule #2 is interesting because it reveals how prevalent the commerical route on Everest is. It implies that nearly everyone who climbs Everest takes the commercial route.\n",
    "- \"Rule #4 is also intersting because it shows that if the summit was a failure then it the climbers didn't use O2. This makes sense given the difficulty of summiting exteremly tall mountains (many of which are over 8000m tall) without the addition of oxygen.\n",
    "- Rule #5 essentially confirms the opposite of rule #4. That is that if oxygen was used then the climbers successfully summited."
   ]
  },
  {
   "cell_type": "markdown",
   "metadata": {},
   "source": [
    "## Naive Bayes Classifying:"
   ]
  },
  {
   "cell_type": "code",
   "execution_count": null,
   "metadata": {},
   "outputs": [],
   "source": [
    "himalaya_nb_classifier = MyNaiveBayesClassifier()\n",
    "\n",
    "classifier_stats = myutils.get_classifier_stats(himalaya_nb_classifier, X_train, y_train, 10)\n",
    "select_classifier_stats = myutils.get_classifier_stats(himalaya_nb_classifier, select_X_train, y_train, 10)\n",
    "\n",
    "myutils.print_stats(\"Naive Bayes Results %\", classifier_stats)\n",
    "myutils.print_stats(\"Naive Bayes Results %\\nTrained on YEAR, SEASON, HOST, 02CLIMB, COMMERCIALROUTE \", select_classifier_stats)"
   ]
  },
  {
   "cell_type": "markdown",
   "metadata": {},
   "source": [
    "These results suggest that doing data selection didn't help much in terms of increasing the accuracy of the Naive Bayes Classifier.\n",
    "\n",
    "This predictor did alright with accuracy but the F1 struggled immensely. "
   ]
  },
  {
   "cell_type": "markdown",
   "metadata": {},
   "source": [
    "## Decision Tree Classifying:"
   ]
  },
  {
   "cell_type": "code",
   "execution_count": 4,
   "metadata": {},
   "outputs": [
    {
     "name": "stdout",
     "output_type": "stream",
     "text": [
      "====================================\n",
      "Decision Tree Results %\n",
      "Trained on ALL attributes\n",
      "====================================\n",
      "Accuracy:  16.3\n",
      "Error Rate:  83.7\n",
      "Precision:  47.8\n",
      "Recall:  12.8\n",
      "F1 Score:  20.200000000000003\n",
      "====================================\n",
      "Decision Tree Results %\n",
      "Trained on YEAR, SEASON, HOST, 02CLIMB, COMMERCIALROUTE\n",
      "====================================\n",
      "Accuracy:  64.0\n",
      "Error Rate:  36.0\n",
      "Precision:  56.3\n",
      "Recall:  59.4\n",
      "F1 Score:  57.3\n"
     ]
    }
   ],
   "source": [
    "himalaya_nb_classifier = MyDecisionTreeClassifier()\n",
    "\n",
    "classifier_stats = myutils.get_classifier_stats(himalaya_nb_classifier, X_train, y_train, 10)\n",
    "select_X_train = [[row[0],row[1], row[2], row[3],row[5],row[6],row[7],row[8],row[9], row[10],row[13],row[14]] for row in himalaya_table.data]\n",
    "select_classifier_stats = myutils.get_classifier_stats(himalaya_nb_classifier, select_X_train, y_train, 10)\n",
    "\n",
    "myutils.print_stats(\"Decision Tree Results %\\nTrained on ALL attributes\", classifier_stats)\n",
    "myutils.print_stats(\"Decision Tree Results %\\nTrained on YEAR, SEASON, HOST, 02CLIMB, COMMERCIALROUTE\", select_classifier_stats)"
   ]
  },
  {
   "cell_type": "markdown",
   "metadata": {},
   "source": [
    "This decision tree did horrible when given all attributes with a accuracy of 16.5%. But it became one of the best classifiers when the attributes were narrowed down to only certain ones like YEAR, SEASON, and O2Climb. Since the F1 is also high for this, it did the best out of all the classifiers tested."
   ]
  },
  {
   "cell_type": "markdown",
   "metadata": {},
   "source": [
    "## Random Forest Classification:"
   ]
  },
  {
   "cell_type": "code",
   "execution_count": 13,
   "metadata": {},
   "outputs": [
    {
     "name": "stdout",
     "output_type": "stream",
     "text": [
      "====================================\n",
      "Random Forest Results %\n",
      "Trained on ALL attributes\n",
      "====================================\n",
      "Accuracy:  48.8\n",
      "Error Rate:  51.2\n",
      "Precision:  68.0\n",
      "Recall:  24.3\n",
      "F1 Score:  33.800000000000004\n",
      "====================================\n",
      "Random Forest Results %\n",
      "Trained on YEAR, SEASON, HOST, 02CLIMB, COMMERCIALROUTE\n",
      "====================================\n",
      "Accuracy:  66.3\n",
      "Error Rate:  33.7\n",
      "Precision:  68.89999999999999\n",
      "Recall:  40.300000000000004\n",
      "F1 Score:  50.4\n"
     ]
    }
   ],
   "source": [
    "X_train = [row[:-1] for row in himalaya_table.data]\n",
    "y_train = [row[-1] for row in himalaya_table.data]\n",
    "seed = 5\n",
    "# Only using YEAR, SEASON, HOST, 02CLIMB, COMMERCIALROUTE:\n",
    "select_X_train = [[row[0],row[1], row[2], row[3],row[5],row[6],row[7],row[8],row[9], row[10],row[13],row[14]] for row in himalaya_table.data]\n",
    "himalaya_rf = MyRandomForrestClassifier(50, 25, 7, seed=seed)\n",
    "classifier_stats = myutils.get_classifier_stats(himalaya_rf, X_train, y_train, 10)\n",
    "himalaya_rf = MyRandomForrestClassifier(100, 40, 4,seed=seed)\n",
    "select_classifier_stats = myutils.get_classifier_stats(himalaya_rf, select_X_train, y_train, 10)\n",
    "\n",
    "myutils.print_stats(\"Random Forest Results %\\nTrained on ALL attributes\", classifier_stats)\n",
    "myutils.print_stats(\"Random Forest Results %\\nTrained on YEAR, SEASON, HOST, 02CLIMB, COMMERCIALROUTE\", select_classifier_stats)"
   ]
  },
  {
   "cell_type": "markdown",
   "metadata": {},
   "source": [
    "The random forest classifier did really well with accuracy when using selected attributes. We ran this many times switching the attributes and the N, M, and F values and this was the best we could get it. This classifier had a higher accuracy than all the others we tried but unfortanetly the F1 was quite a bit lower compared to decision tree. "
   ]
  }
 ],
 "metadata": {
  "kernelspec": {
   "display_name": "Python 3.9.12 ('base')",
   "language": "python",
   "name": "python3"
  },
  "language_info": {
   "codemirror_mode": {
    "name": "ipython",
    "version": 3
   },
   "file_extension": ".py",
   "mimetype": "text/x-python",
   "name": "python",
   "nbconvert_exporter": "python",
   "pygments_lexer": "ipython3",
   "version": "3.9.12"
  },
  "orig_nbformat": 4,
  "vscode": {
   "interpreter": {
    "hash": "d4d1e4263499bec80672ea0156c357c1ee493ec2b1c70f0acce89fc37c4a6abe"
   }
  }
 },
 "nbformat": 4,
 "nbformat_minor": 2
}
