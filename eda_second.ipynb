{
 "cells": [
  {
   "cell_type": "code",
   "execution_count": 2,
   "metadata": {},
   "outputs": [],
   "source": [
    "import importlib\n",
    "\n",
    "import mysklearn.myutils\n",
    "importlib.reload(mysklearn.myutils)\n",
    "import mysklearn.myutils as myutils\n",
    "\n",
    "import mysklearn.mypytable\n",
    "importlib.reload(mysklearn.mypytable)\n",
    "from mysklearn.mypytable import MyPyTable \n",
    "\n",
    "import mysklearn.myclassifiers\n",
    "importlib.reload(mysklearn.myclassifiers)\n",
    "from mysklearn.myclassifiers import MyNaiveBayesClassifier, MyDecisionTreeClassifier, MyAssociationRuleMiner, MyRandomForrestClassifier\n",
    "\n",
    "import mysklearn.myevaluation\n",
    "importlib.reload(mysklearn.myevaluation)\n",
    "import mysklearn.myevaluation as myevaluation\n",
    "\n",
    "import eda_utils\n",
    "importlib.reload(eda_utils)\n",
    "\n",
    "import matplotlib.pyplot as plt\n",
    "\n",
    "import numpy as np\n",
    "\n",
    "himalaya_table = MyPyTable()\n",
    "himalaya_table.load_from_file(\"data/322-Final-Dataset.csv\")\n",
    "\n",
    "# Removing all rows with missing values\n",
    "himalaya_table.remove_rows_with_missing_values(\"\")\n",
    "\n",
    "# Converting the SMTMEMBERS row to binary values as this will be \n",
    "#   what we use for predictions\n",
    "himalaya_table.convert_row_to_binary(\"SUMMIT_SUCCESS\", 0.0)\n",
    "#himalaya_table.pretty_print()\n",
    "himalaya_table = himalaya_table.combine_boolean_rows(\"SKI\", \"PARAPENTE\", \"TRUE\")"
   ]
  },
  {
   "cell_type": "code",
   "execution_count": 26,
   "metadata": {},
   "outputs": [],
   "source": []
  },
  {
   "cell_type": "code",
   "execution_count": 77,
   "metadata": {},
   "outputs": [
    {
     "name": "stdout",
     "output_type": "stream",
     "text": [
      "====================================\n",
      "Random Forest Results %\n",
      "Trained on YEAR, SEASON, HOST, 02CLIMB, COMMERCIALROUTE\n",
      "====================================\n",
      "Accuracy:  63.2\n",
      "Error Rate:  36.8\n",
      "Precision:  67.7\n",
      "Recall:  34.599999999999994\n",
      "F1 Score:  45.2\n"
     ]
    }
   ],
   "source": [
    "X_train = [row[:-1] for row in himalaya_table.data]\n",
    "y_train = [row[-1] for row in himalaya_table.data]\n",
    "# Only using YEAR, SEASON, HOST, 02CLIMB, COMMERCIALROUTE:\n",
    "select_X_train = [[row[0],row[1], row[2], row[3],row[5],row[6],row[7],row[8],row[9], row[10],row[13],row[14]] for row in himalaya_table.data]\n",
    "#himalaya_rf = MyRandomForrestClassifier(50, 25, 7)\n",
    "#classifier_stats = myutils.get_classifier_stats(himalaya_rf, X_train, y_train, 10)\n",
    "himalaya_rf = MyRandomForrestClassifier(100, 45, 5,seed=6)\n",
    "select_classifier_stats = myutils.get_classifier_stats(himalaya_rf, select_X_train, y_train, 10)\n",
    "\n",
    "#myutils.print_stats(\"Random Forest Results %\\nTrained on ALL attributes\", classifier_stats)\n",
    "myutils.print_stats(\"Random Forest Results %\\nTrained on YEAR, SEASON, HOST, 02CLIMB, COMMERCIALROUTE\", select_classifier_stats)"
   ]
  },
  {
   "cell_type": "code",
   "execution_count": 73,
   "metadata": {},
   "outputs": [
    {
     "name": "stdout",
     "output_type": "stream",
     "text": [
      "====================================\n",
      "Random Forest Results %\n",
      "Trained on YEAR, SEASON, HOST, 02CLIMB, COMMERCIALROUTE\n",
      "====================================\n",
      "Accuracy:  62.8\n",
      "Error Rate:  37.2\n",
      "Precision:  55.300000000000004\n",
      "Recall:  51.2\n",
      "F1 Score:  52.0\n"
     ]
    }
   ],
   "source": [
    "X_train = [row[:-1] for row in himalaya_table.data]\n",
    "y_train = [row[-1] for row in himalaya_table.data]\n",
    "# Only using YEAR, SEASON, HOST, 02CLIMB, COMMERCIALROUTE:\n",
    "select_X_train = [[row[1],row[9],row[10],row[14]] for row in himalaya_table.data]\n",
    "#himalaya_rf = MyRandomForrestClassifier(50, 25, 7)\n",
    "#classifier_stats = myutils.get_classifier_stats(himalaya_rf, X_train, y_train, 10)\n",
    "himalaya_rf = MyRandomForrestClassifier(50, 15, 3,seed=6)\n",
    "select_classifier_stats = myutils.get_classifier_stats(himalaya_rf, select_X_train, y_train, 10)\n",
    "\n",
    "#myutils.print_stats(\"Random Forest Results %\\nTrained on ALL attributes\", classifier_stats)\n",
    "myutils.print_stats(\"Random Forest Results %\\nTrained on YEAR, SEASON, HOST, 02CLIMB, COMMERCIALROUTE\", select_classifier_stats)"
   ]
  }
 ],
 "metadata": {
  "kernelspec": {
   "display_name": "Python 3.9.12 ('base')",
   "language": "python",
   "name": "python3"
  },
  "language_info": {
   "codemirror_mode": {
    "name": "ipython",
    "version": 3
   },
   "file_extension": ".py",
   "mimetype": "text/x-python",
   "name": "python",
   "nbconvert_exporter": "python",
   "pygments_lexer": "ipython3",
   "version": "3.9.12"
  },
  "orig_nbformat": 4,
  "vscode": {
   "interpreter": {
    "hash": "d4d1e4263499bec80672ea0156c357c1ee493ec2b1c70f0acce89fc37c4a6abe"
   }
  }
 },
 "nbformat": 4,
 "nbformat_minor": 2
}
