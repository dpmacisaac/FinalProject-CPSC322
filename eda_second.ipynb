{
 "cells": [
  {
   "cell_type": "code",
   "execution_count": 2,
   "metadata": {},
   "outputs": [],
   "source": [
    "import importlib\n",
    "\n",
    "import mysklearn.myutils\n",
    "importlib.reload(mysklearn.myutils)\n",
    "import mysklearn.myutils as myutils\n",
    "\n",
    "import mysklearn.mypytable\n",
    "importlib.reload(mysklearn.mypytable)\n",
    "from mysklearn.mypytable import MyPyTable \n",
    "\n",
    "import mysklearn.myclassifiers\n",
    "importlib.reload(mysklearn.myclassifiers)\n",
    "from mysklearn.myclassifiers import MyNaiveBayesClassifier, MyDecisionTreeClassifier, MyAssociationRuleMiner, MyRandomForrestClassifier\n",
    "\n",
    "import mysklearn.myevaluation\n",
    "importlib.reload(mysklearn.myevaluation)\n",
    "import mysklearn.myevaluation as myevaluation\n",
    "\n",
    "import eda_utils\n",
    "importlib.reload(eda_utils)\n",
    "\n",
    "import matplotlib.pyplot as plt\n",
    "\n",
    "import numpy as np\n",
    "\n",
    "himalaya_table = MyPyTable()\n",
    "himalaya_table.load_from_file(\"data/322-Final-Dataset.csv\")\n",
    "\n",
    "# Removing all rows with missing values\n",
    "himalaya_table.remove_rows_with_missing_values(\"\")\n",
    "\n",
    "# Converting the SMTMEMBERS row to binary values as this will be \n",
    "#   what we use for predictions\n",
    "himalaya_table.convert_row_to_binary(\"SUMMIT_SUCCESS\", 0.0)\n",
    "#himalaya_table.pretty_print()\n",
    "himalaya_table = himalaya_table.combine_boolean_rows(\"SKI\", \"PARAPENTE\", \"TRUE\")"
   ]
  },
  {
   "cell_type": "code",
   "execution_count": 26,
   "metadata": {},
   "outputs": [],
   "source": []
  },
  {
   "cell_type": "code",
   "execution_count": 79,
   "metadata": {},
   "outputs": [
    {
     "ename": "KeyboardInterrupt",
     "evalue": "",
     "output_type": "error",
     "traceback": [
      "\u001b[0;31m---------------------------------------------------------------------------\u001b[0m",
      "\u001b[0;31mKeyboardInterrupt\u001b[0m                         Traceback (most recent call last)",
      "\u001b[1;32m/home/FinalProject-CPSC322/eda_second.ipynb Cell 3\u001b[0m in \u001b[0;36m<cell line: 6>\u001b[0;34m()\u001b[0m\n\u001b[1;32m      <a href='vscode-notebook-cell://attached-container%2B7b22636f6e7461696e65724e616d65223a222f616e61222c2273657474696e6773223a7b22636f6e74657874223a226465736b746f702d6c696e7578227d7d/home/FinalProject-CPSC322/eda_second.ipynb#W2sdnNjb2RlLXJlbW90ZQ%3D%3D?line=3'>4</a>\u001b[0m select_X_train \u001b[39m=\u001b[39m [[row[\u001b[39m0\u001b[39m],row[\u001b[39m1\u001b[39m], row[\u001b[39m2\u001b[39m], row[\u001b[39m3\u001b[39m],row[\u001b[39m5\u001b[39m],row[\u001b[39m6\u001b[39m],row[\u001b[39m7\u001b[39m],row[\u001b[39m8\u001b[39m],row[\u001b[39m9\u001b[39m], row[\u001b[39m10\u001b[39m],row[\u001b[39m13\u001b[39m],row[\u001b[39m14\u001b[39m]] \u001b[39mfor\u001b[39;00m row \u001b[39min\u001b[39;00m himalaya_table\u001b[39m.\u001b[39mdata]\n\u001b[1;32m      <a href='vscode-notebook-cell://attached-container%2B7b22636f6e7461696e65724e616d65223a222f616e61222c2273657474696e6773223a7b22636f6e74657874223a226465736b746f702d6c696e7578227d7d/home/FinalProject-CPSC322/eda_second.ipynb#W2sdnNjb2RlLXJlbW90ZQ%3D%3D?line=4'>5</a>\u001b[0m himalaya_rf \u001b[39m=\u001b[39m MyRandomForrestClassifier(\u001b[39m50\u001b[39m, \u001b[39m25\u001b[39m, \u001b[39m7\u001b[39m)\n\u001b[0;32m----> <a href='vscode-notebook-cell://attached-container%2B7b22636f6e7461696e65724e616d65223a222f616e61222c2273657474696e6773223a7b22636f6e74657874223a226465736b746f702d6c696e7578227d7d/home/FinalProject-CPSC322/eda_second.ipynb#W2sdnNjb2RlLXJlbW90ZQ%3D%3D?line=5'>6</a>\u001b[0m classifier_stats \u001b[39m=\u001b[39m myutils\u001b[39m.\u001b[39;49mget_classifier_stats(himalaya_rf, X_train, y_train, \u001b[39m10\u001b[39;49m)\n\u001b[1;32m      <a href='vscode-notebook-cell://attached-container%2B7b22636f6e7461696e65724e616d65223a222f616e61222c2273657474696e6773223a7b22636f6e74657874223a226465736b746f702d6c696e7578227d7d/home/FinalProject-CPSC322/eda_second.ipynb#W2sdnNjb2RlLXJlbW90ZQ%3D%3D?line=6'>7</a>\u001b[0m himalaya_rf \u001b[39m=\u001b[39m MyRandomForrestClassifier(\u001b[39m100\u001b[39m, \u001b[39m45\u001b[39m, \u001b[39m5\u001b[39m,seed\u001b[39m=\u001b[39m\u001b[39m6\u001b[39m)\n\u001b[1;32m      <a href='vscode-notebook-cell://attached-container%2B7b22636f6e7461696e65724e616d65223a222f616e61222c2273657474696e6773223a7b22636f6e74657874223a226465736b746f702d6c696e7578227d7d/home/FinalProject-CPSC322/eda_second.ipynb#W2sdnNjb2RlLXJlbW90ZQ%3D%3D?line=7'>8</a>\u001b[0m select_classifier_stats \u001b[39m=\u001b[39m myutils\u001b[39m.\u001b[39mget_classifier_stats(himalaya_rf, select_X_train, y_train, \u001b[39m10\u001b[39m)\n",
      "File \u001b[0;32m/home/FinalProject-CPSC322/mysklearn/myutils.py:370\u001b[0m, in \u001b[0;36mget_classifier_stats\u001b[0;34m(classifier, X, y, k, dummy)\u001b[0m\n\u001b[1;32m    367\u001b[0m recalls \u001b[39m=\u001b[39m []\n\u001b[1;32m    368\u001b[0m f1s \u001b[39m=\u001b[39m []\n\u001b[0;32m--> 370\u001b[0m folds \u001b[39m=\u001b[39m myevaluation\u001b[39m.\u001b[39;49mstratified_kfold_split(X, y, k, shuffle\u001b[39m=\u001b[39;49m\u001b[39mTrue\u001b[39;49;00m)\n\u001b[1;32m    372\u001b[0m \u001b[39mfor\u001b[39;00m i \u001b[39min\u001b[39;00m \u001b[39mrange\u001b[39m(k):\n\u001b[1;32m    373\u001b[0m     X_test \u001b[39m=\u001b[39m [X[_] \u001b[39mfor\u001b[39;00m _ \u001b[39min\u001b[39;00m folds[i][\u001b[39m0\u001b[39m]]\n",
      "File \u001b[0;32m/home/FinalProject-CPSC322/mysklearn/myevaluation.py:288\u001b[0m, in \u001b[0;36mstratified_kfold_split\u001b[0;34m(X, y, n_splits, random_state, shuffle)\u001b[0m\n\u001b[1;32m    286\u001b[0m added_yet \u001b[39m=\u001b[39m \u001b[39mFalse\u001b[39;00m\n\u001b[1;32m    287\u001b[0m \u001b[39mwhile\u001b[39;00m added_yet \u001b[39mis\u001b[39;00m \u001b[39mFalse\u001b[39;00m:\n\u001b[0;32m--> 288\u001b[0m     num \u001b[39m=\u001b[39m grouped_vals[i][np\u001b[39m.\u001b[39;49mrandom\u001b[39m.\u001b[39;49mrandint(\u001b[39m0\u001b[39;49m,\u001b[39mlen\u001b[39;49m(grouped_vals[i]))]\n\u001b[1;32m    289\u001b[0m     \u001b[39mif\u001b[39;00m added\u001b[39m.\u001b[39m\u001b[39m__contains__\u001b[39m(num) \u001b[39mis\u001b[39;00m \u001b[39mFalse\u001b[39;00m:\n\u001b[1;32m    290\u001b[0m         folds[place][\u001b[39m1\u001b[39m]\u001b[39m.\u001b[39mappend(num)\n",
      "\u001b[0;31mKeyboardInterrupt\u001b[0m: "
     ]
    }
   ],
   "source": [
    "X_train = [row[:-1] for row in himalaya_table.data]\n",
    "y_train = [row[-1] for row in himalaya_table.data]\n",
    "# Only using YEAR, SEASON, HOST, 02CLIMB, COMMERCIALROUTE:\n",
    "select_X_train = [[row[0],row[1], row[2], row[3],row[5],row[6],row[7],row[8],row[9], row[10],row[13],row[14]] for row in himalaya_table.data]\n",
    "himalaya_rf = MyRandomForrestClassifier(50, 25, 7)\n",
    "classifier_stats = myutils.get_classifier_stats(himalaya_rf, X_train, y_train, 10)\n",
    "himalaya_rf = MyRandomForrestClassifier(100, 45, 5,seed=6)\n",
    "select_classifier_stats = myutils.get_classifier_stats(himalaya_rf, select_X_train, y_train, 10)\n",
    "\n",
    "myutils.print_stats(\"Random Forest Results %\\nTrained on ALL attributes\", classifier_stats)\n",
    "myutils.print_stats(\"Random Forest Results %\\nTrained on YEAR, SEASON, HOST, 02CLIMB, COMMERCIALROUTE\", select_classifier_stats)"
   ]
  }
 ],
 "metadata": {
  "kernelspec": {
   "display_name": "Python 3.9.12 ('base')",
   "language": "python",
   "name": "python3"
  },
  "language_info": {
   "codemirror_mode": {
    "name": "ipython",
    "version": 3
   },
   "file_extension": ".py",
   "mimetype": "text/x-python",
   "name": "python",
   "nbconvert_exporter": "python",
   "pygments_lexer": "ipython3",
   "version": "3.9.12"
  },
  "orig_nbformat": 4,
  "vscode": {
   "interpreter": {
    "hash": "d4d1e4263499bec80672ea0156c357c1ee493ec2b1c70f0acce89fc37c4a6abe"
   }
  }
 },
 "nbformat": 4,
 "nbformat_minor": 2
}
